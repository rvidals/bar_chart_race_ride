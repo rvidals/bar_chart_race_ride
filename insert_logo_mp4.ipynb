{
 "cells": [
  {
   "cell_type": "code",
   "execution_count": 1,
   "metadata": {},
   "outputs": [],
   "source": [
    "import os\n",
    "import glob\n",
    "import moviepy.editor as mp"
   ]
  },
  {
   "cell_type": "code",
   "execution_count": 2,
   "metadata": {},
   "outputs": [],
   "source": [
    "#Caminho do arquivo xlsx\n",
    "os.chdir('..') #Voltar uma pasta\n",
    "path = os.path.join(os.getcwd(),r'GIF')\n",
    "files = glob.glob(path + '/*.mp4')"
   ]
  },
  {
   "cell_type": "code",
   "execution_count": 6,
   "metadata": {},
   "outputs": [],
   "source": [
    "#Função para inserir marcad'água em um mp4\n",
    "def watermark_ipedf(path_video, path_logo):\n",
    "    video = mp.VideoFileClip(path_video)\n",
    "    logo = (mp.ImageClip(path_logo)\n",
    "          .set_duration(video.duration)\n",
    "          .resize(height=70) # if you need to resize...\n",
    "          .margin(right=20, top=20, opacity=0) # (optional) logo-border padding\n",
    "          .set_position((2550,125))\n",
    "        )\n",
    "\n",
    "    final = mp.CompositeVideoClip([video, logo])\n",
    "    name = os.path.basename(path_video).split('.')[0]\n",
    "    return final.write_videofile(f\"GIF/{name}_logo.mp4\", bitrate=\"5000k\")"
   ]
  },
  {
   "cell_type": "code",
   "execution_count": 7,
   "metadata": {},
   "outputs": [
    {
     "name": "stdout",
     "output_type": "stream",
     "text": [
      "Moviepy - Building video GIF/Crescimento_Populacional_Ride_logo.mp4.\n",
      "Moviepy - Writing video GIF/Crescimento_Populacional_Ride_logo.mp4\n",
      "\n"
     ]
    },
    {
     "name": "stderr",
     "output_type": "stream",
     "text": [
      "                                                            \r"
     ]
    },
    {
     "name": "stdout",
     "output_type": "stream",
     "text": [
      "Moviepy - Done !\n",
      "Moviepy - video ready GIF/Crescimento_Populacional_Ride_logo.mp4\n",
      "Moviepy - Building video GIF/Crescimento_Populacional_Ride_DF_logo.mp4.\n",
      "Moviepy - Writing video GIF/Crescimento_Populacional_Ride_DF_logo.mp4\n",
      "\n"
     ]
    },
    {
     "name": "stderr",
     "output_type": "stream",
     "text": [
      "                                                            \r"
     ]
    },
    {
     "name": "stdout",
     "output_type": "stream",
     "text": [
      "Moviepy - Done !\n",
      "Moviepy - video ready GIF/Crescimento_Populacional_Ride_DF_logo.mp4\n"
     ]
    }
   ],
   "source": [
    "for file in files:\n",
    "    watermark_ipedf(file, path + \"\\Ativo1.png\")\n"
   ]
  }
 ],
 "metadata": {
  "kernelspec": {
   "display_name": "geo_py39",
   "language": "python",
   "name": "python3"
  },
  "language_info": {
   "codemirror_mode": {
    "name": "ipython",
    "version": 3
   },
   "file_extension": ".py",
   "mimetype": "text/x-python",
   "name": "python",
   "nbconvert_exporter": "python",
   "pygments_lexer": "ipython3",
   "version": "3.9.16"
  },
  "orig_nbformat": 4
 },
 "nbformat": 4,
 "nbformat_minor": 2
}
